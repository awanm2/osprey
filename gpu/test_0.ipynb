{
  "nbformat": 4,
  "nbformat_minor": 0,
  "metadata": {
    "colab": {
      "provenance": [],
      "history_visible": true,
      "gpuType": "T4",
      "authorship_tag": "ABX9TyMUXzVKdER75V6p3MugxHRR",
      "include_colab_link": true
    },
    "kernelspec": {
      "name": "python3",
      "display_name": "Python 3"
    },
    "language_info": {
      "name": "python"
    },
    "accelerator": "GPU"
  },
  "cells": [
    {
      "cell_type": "markdown",
      "metadata": {
        "id": "view-in-github",
        "colab_type": "text"
      },
      "source": [
        "<a href=\"https://colab.research.google.com/github/awanm2/osprey/blob/main/gpu/test_0.ipynb\" target=\"_parent\"><img src=\"https://colab.research.google.com/assets/colab-badge.svg\" alt=\"Open In Colab\"/></a>"
      ]
    },
    {
      "cell_type": "markdown",
      "source": [
        "A basic program to run on Google colab.\n",
        "testing CUDA."
      ],
      "metadata": {
        "id": "g02hk5kX3J9b"
      }
    },
    {
      "cell_type": "code",
      "execution_count": null,
      "metadata": {
        "colab": {
          "base_uri": "https://localhost:8080/"
        },
        "id": "DRdzlr5tUmpI",
        "outputId": "b173044a-42f3-4f01-af83-173f79bfad78"
      },
      "outputs": [
        {
          "output_type": "stream",
          "name": "stdout",
          "text": [
            "Overwriting prog.cu\n"
          ]
        }
      ],
      "source": [
        "%%writefile prog.cu\n",
        "#include <stdio.h>\n",
        "#include <stdlib.h>\n",
        "\n",
        "__global__ void add(int a, int b, int *res) {\n",
        "  *res = a + b;\n",
        "}\n",
        "int main() {\n",
        "  int res=0;\n",
        "  int *d_res;\n",
        "  // reserve memory for the result on the GPU\n",
        "  cudaMalloc((void**)&d_res, sizeof(int));\n",
        "  // Launch add() kernel on GPU,\n",
        "  // which writes its result to address d_res on GPU\n",
        "  add<<<1,1>>>(2, 2, d_res);\n",
        "  // wait for the GPU to finish\n",
        "  cudaDeviceSynchronize();\n",
        "  // copy result back to CPU\n",
        "  cudaMemcpy(&res, d_res, sizeof(int), cudaMemcpyDeviceToHost);\n",
        "  // print result\n",
        "  printf(\"2 + 2 = %d\\n\", res);\n",
        "  return EXIT_SUCCESS;\n",
        "}"
      ]
    },
    {
      "cell_type": "markdown",
      "source": [
        "Following command prints nvcc version."
      ],
      "metadata": {
        "id": "n0ryj9b63VC7"
      }
    },
    {
      "cell_type": "code",
      "source": [
        "!nvcc --version"
      ],
      "metadata": {
        "colab": {
          "base_uri": "https://localhost:8080/"
        },
        "id": "bt9J1I0r2G_p",
        "outputId": "1a159196-4aee-4473-a69a-a31f8244025b"
      },
      "execution_count": null,
      "outputs": [
        {
          "output_type": "stream",
          "name": "stdout",
          "text": [
            "nvcc: NVIDIA (R) Cuda compiler driver\n",
            "Copyright (c) 2005-2023 NVIDIA Corporation\n",
            "Built on Tue_Aug_15_22:02:13_PDT_2023\n",
            "Cuda compilation tools, release 12.2, V12.2.140\n",
            "Build cuda_12.2.r12.2/compiler.33191640_0\n"
          ]
        }
      ]
    },
    {
      "cell_type": "markdown",
      "source": [
        "Compile the code"
      ],
      "metadata": {
        "id": "NB2llaOJ3hDm"
      }
    },
    {
      "cell_type": "code",
      "metadata": {
        "id": "nW4NEuImTzYu"
      },
      "source": [
        "!nvcc -I /usr/local/cuda/samples/common/inc/ -L/usr/local/cuda/include -lcublas -lcusolver -Wno-deprecated-gpu-targets prog.cu"
      ],
      "execution_count": null,
      "outputs": []
    },
    {
      "cell_type": "code",
      "source": [
        "Run the program"
      ],
      "metadata": {
        "id": "wqi0QAHX3k8U"
      },
      "execution_count": null,
      "outputs": []
    },
    {
      "cell_type": "code",
      "source": [
        "!./a.out"
      ],
      "metadata": {
        "colab": {
          "base_uri": "https://localhost:8080/"
        },
        "id": "CKHLAbzF2UcC",
        "outputId": "c0259d2c-0567-4322-d0cf-7c9cd1ca1b26"
      },
      "execution_count": null,
      "outputs": [
        {
          "output_type": "stream",
          "name": "stdout",
          "text": [
            "2 + 2 = 4\n"
          ]
        }
      ]
    },
    {
      "cell_type": "markdown",
      "source": [],
      "metadata": {
        "id": "0ABiZVyb3ey2"
      }
    }
  ]
}