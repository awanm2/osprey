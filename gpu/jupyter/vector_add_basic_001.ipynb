{
  "nbformat": 4,
  "nbformat_minor": 0,
  "metadata": {
    "colab": {
      "provenance": [],
      "gpuType": "T4",
      "authorship_tag": "ABX9TyPyWAlOdwDlB2MzHpncs4pR",
      "include_colab_link": true
    },
    "kernelspec": {
      "name": "python3",
      "display_name": "Python 3"
    },
    "language_info": {
      "name": "python"
    },
    "accelerator": "GPU"
  },
  "cells": [
    {
      "cell_type": "markdown",
      "metadata": {
        "id": "view-in-github",
        "colab_type": "text"
      },
      "source": [
        "<a href=\"https://colab.research.google.com/github/awanm2/osprey/blob/main/gpu/jupyter/vector_add_basic_001.ipynb\" target=\"_parent\"><img src=\"https://colab.research.google.com/assets/colab-badge.svg\" alt=\"Open In Colab\"/></a>"
      ]
    },
    {
      "cell_type": "markdown",
      "source": [
        "This is example from Chapter 2 of Programming Massively Parallel Processors:3rd edition.\n",
        "Compile the code and run it"
      ],
      "metadata": {
        "id": "A0im0v5CiLnj"
      }
    },
    {
      "cell_type": "code",
      "source": [
        "\n",
        "%%writefile prog_vector_add.cu\n",
        "#include <stdio.h>\n",
        "#include <stdlib.h>\n",
        "#include <time.h>\n",
        "// Kernel\n",
        "__global__ void vecAddKernel(float* A, float* B, float* C, int n)\n",
        "{\n",
        "\n",
        "  int i = blockDim.x * blockIdx.x + threadIdx.x;\n",
        "  if (i < n ){\n",
        "    C[i] = A[i] + B[i];\n",
        "  }\n",
        "}\n",
        "\n",
        "// Warapper around the kernel\n",
        "void vecAdd(float* A, float* B, float* C, int n)\n",
        "{\n",
        "  int size = n * sizeof(float);\n",
        "  float *d_A;\n",
        "  float *d_B;\n",
        "  float *d_C;\n",
        "\n",
        "  cudaMalloc((void**) &d_A, size);\n",
        "  cudaMemcpy( d_A, A, size, cudaMemcpyHostToDevice);\n",
        "\n",
        "\n",
        "  cudaMalloc((void**) &d_B, size);\n",
        "  cudaMemcpy( d_B, B, size, cudaMemcpyHostToDevice);\n",
        "\n",
        "\n",
        "  cudaMalloc((void**) &d_C, size);\n",
        "\n",
        "  vecAddKernel<<< ceil(n/256.0), 256>>> (d_A, d_B, d_C, n);\n",
        "\n",
        "  cudaMemcpy( C, d_C, size, cudaMemcpyDeviceToHost);\n",
        "\n",
        "  cudaFree(d_A);\n",
        "  cudaFree(d_B);\n",
        "  cudaFree(d_C);\n",
        "\n",
        "}\n",
        "\n",
        "void fill_random_floats(float* Arr, int n){\n",
        "  float a_range = 1000.0;\n",
        "\n",
        "  for(int i = 0;i<n;i++){\n",
        "    Arr[i] = (float)rand()/(float)(RAND_MAX/a_range);\n",
        "     }\n",
        "}\n",
        "\n",
        "\n",
        "int main()\n",
        "{\n",
        "     time_t t;\n",
        "\n",
        "     srand((unsigned) time(&t));\n",
        "     printf(\"%d\\n\", rand() % 50);\n",
        "\n",
        "     int n = 6000;\n",
        "\n",
        "     float* A = (float *)malloc(sizeof(float)* n);\n",
        "\n",
        "\n",
        "\n",
        "     float* B = (float *)malloc(sizeof(float)* n);\n",
        "     float* C = (float*) malloc(sizeof(float)* n);\n",
        "\n",
        "\n",
        "\n",
        "\n",
        "     memset(A,0,sizeof(float)*n);\n",
        "     memset(B,0,sizeof(float)*n);\n",
        "     memset(C,0,sizeof(float)*n);\n",
        "\n",
        "     fill_random_floats(A, n);\n",
        "     fill_random_floats(B, n);\n",
        "\n",
        "     vecAdd(A, B, C,  n);\n",
        "\n",
        "     // check --not the best floating point compare\n",
        "\n",
        "     for(int i = 0;i<n;i++)\n",
        "     {\n",
        "      if ((A[i] + B[i]) != C[i]){\n",
        "\n",
        "        printf (\"A:%f, B:%f C:%f\", A[i], B[i], C[i]);\n",
        "        break;\n",
        "\n",
        "\n",
        "      }\n",
        "     }\n",
        "\n",
        "\n",
        "\n",
        "     free(A);\n",
        "     free(B);\n",
        "     free(C);\n",
        "\n",
        "  return EXIT_SUCCESS;\n",
        "}\n",
        "\n",
        "\n"
      ],
      "metadata": {
        "colab": {
          "base_uri": "https://localhost:8080/"
        },
        "id": "6cIiE9s8SJg6",
        "outputId": "dfd742db-edac-4494-981b-cde59fa44a15"
      },
      "execution_count": 1,
      "outputs": [
        {
          "output_type": "stream",
          "name": "stdout",
          "text": [
            "Writing prog_vector_add.cu\n"
          ]
        }
      ]
    },
    {
      "cell_type": "code",
      "metadata": {
        "id": "nW4NEuImTzYu"
      },
      "source": [
        "!nvcc -I /usr/local/cuda/samples/common/inc/ -L/usr/local/cuda/include -lcublas -lcusolver -Wno-deprecated-gpu-targets prog_vector_add.cu"
      ],
      "execution_count": 2,
      "outputs": []
    },
    {
      "cell_type": "markdown",
      "source": [
        "Run it\n"
      ],
      "metadata": {
        "id": "7SEBedLClgXJ"
      }
    },
    {
      "cell_type": "code",
      "source": [
        "!./a.out"
      ],
      "metadata": {
        "colab": {
          "base_uri": "https://localhost:8080/"
        },
        "id": "8xvfI3rYlifm",
        "outputId": "bc0d1519-fd43-488e-8766-cba299e8cb41"
      },
      "execution_count": 4,
      "outputs": [
        {
          "output_type": "stream",
          "name": "stdout",
          "text": [
            "46\n"
          ]
        }
      ]
    }
  ]
}